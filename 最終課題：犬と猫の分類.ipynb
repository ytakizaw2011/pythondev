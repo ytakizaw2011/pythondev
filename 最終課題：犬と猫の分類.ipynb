{
 "cells": [
  {
   "cell_type": "code",
   "execution_count": 1,
   "id": "c6da16d9",
   "metadata": {},
   "outputs": [
    {
     "name": "stdout",
     "output_type": "stream",
     "text": [
      "Found 300 files belonging to 2 classes.\n",
      "Found 100 files belonging to 2 classes.\n"
     ]
    }
   ],
   "source": [
    "# 画像のサイズはMobileNetV2に対応した縦横96pxにリサイズする\n",
    "import tensorflow as tf\n",
    "\n",
    "train_dataset = tf.keras.preprocessing.image_dataset_from_directory(\n",
    "    \"dog_cat_photos/train\",\n",
    "    image_size = (96,96),\n",
    "    label_mode = \"binary\",\n",
    "    batch_size = 32,\n",
    "    shuffle = True\n",
    ")\n",
    "\n",
    "test_dataset = tf.keras.preprocessing.image_dataset_from_directory(\n",
    "    \"dog_cat_photos/test\",\n",
    "    image_size = (96,96),\n",
    "    label_mode = \"binary\",\n",
    "    batch_size = 32,\n",
    "    shuffle = False\n",
    ")"
   ]
  },
  {
   "cell_type": "code",
   "execution_count": 2,
   "id": "25dea940",
   "metadata": {},
   "outputs": [],
   "source": [
    "# 画像を水増しするための関数の定義\n",
    "def flip_left_right(image, label):\n",
    "    image = tf.image.flip_left_right(image)\n",
    "    return image, label\n",
    "\n",
    "def flip_up_down(image, label):\n",
    "    image = tf.image.flip_up_down(image)\n",
    "    return image, label\n",
    "\n",
    "def rot90(image, label):\n",
    "    image = tf.image.rot90(image)\n",
    "    return image, label\n",
    "\n",
    "def rot180(image, label):\n",
    "    image = tf.image.rot90(image, k = 2)\n",
    "    return image, label\n",
    "\n",
    "def rot270(image, label):\n",
    "    image = tf.image.rot90(image, k = 3)\n",
    "    return image, label\n",
    "\n",
    "# 画像の水増し処理を実行する\n",
    "train_dataset_lr = train_dataset.map(flip_left_right)\n",
    "train_dataset_ud = train_dataset.map(flip_up_down)\n",
    "train_dataset_rot90 = train_dataset.map(rot90)\n",
    "train_dataset_rot180 = train_dataset.map(rot180)\n",
    "train_dataset_rot270 = train_dataset.map(rot270)\n",
    "\n",
    "# 水増しした画像を訓練データに追加する\n",
    "train_dataset = train_dataset.concatenate(train_dataset_lr)\n",
    "train_dataset = train_dataset.concatenate(train_dataset_ud)\n",
    "train_dataset = train_dataset.concatenate(train_dataset_rot90)\n",
    "train_dataset = train_dataset.concatenate(train_dataset_rot180)\n",
    "train_dataset = train_dataset.concatenate(train_dataset_rot270)\n",
    "\n",
    "# 訓練データをシャッフルする\n",
    "train_dataset = train_dataset.shuffle(32)"
   ]
  },
  {
   "cell_type": "code",
   "execution_count": 3,
   "id": "f0bf21ed",
   "metadata": {},
   "outputs": [],
   "source": [
    "# MobileNetV2 モデルを作成する\n",
    "input_layer = tf.keras.Input(shape = (96, 96, 3))\n",
    "i_layer = tf.keras.applications.mobilenet_v2.preprocess_input(input_layer)\n",
    "\n",
    "base_model = tf.keras.applications.mobilenet_v2.MobileNetV2(\n",
    "    input_shape = (96, 96, 3),\n",
    "    input_tensor = i_layer,\n",
    "    include_top = False,\n",
    "    weights = \"imagenet\",\n",
    "    pooling = 'avg'\n",
    ")\n",
    "\n",
    "base_model.trainable = False\n",
    "\n",
    "# Dense層を追加する\n",
    "output_layer = tf.keras.layers.Dense(1, activation = 'sigmoid')"
   ]
  },
  {
   "cell_type": "code",
   "execution_count": 4,
   "id": "29d54a49",
   "metadata": {},
   "outputs": [
    {
     "name": "stdout",
     "output_type": "stream",
     "text": [
      "Epoch 1/20\n",
      "\u001b[1m60/60\u001b[0m \u001b[32m━━━━━━━━━━━━━━━━━━━━\u001b[0m\u001b[37m\u001b[0m \u001b[1m6s\u001b[0m 47ms/step - accuracy: 0.7817 - loss: 0.4587\n",
      "Epoch 2/20\n",
      "\u001b[1m60/60\u001b[0m \u001b[32m━━━━━━━━━━━━━━━━━━━━\u001b[0m\u001b[37m\u001b[0m \u001b[1m3s\u001b[0m 42ms/step - accuracy: 0.9244 - loss: 0.1917\n",
      "Epoch 3/20\n",
      "\u001b[1m60/60\u001b[0m \u001b[32m━━━━━━━━━━━━━━━━━━━━\u001b[0m\u001b[37m\u001b[0m \u001b[1m3s\u001b[0m 42ms/step - accuracy: 0.9483 - loss: 0.1378\n",
      "Epoch 4/20\n",
      "\u001b[1m60/60\u001b[0m \u001b[32m━━━━━━━━━━━━━━━━━━━━\u001b[0m\u001b[37m\u001b[0m \u001b[1m3s\u001b[0m 42ms/step - accuracy: 0.9672 - loss: 0.1069\n",
      "Epoch 5/20\n",
      "\u001b[1m60/60\u001b[0m \u001b[32m━━━━━━━━━━━━━━━━━━━━\u001b[0m\u001b[37m\u001b[0m \u001b[1m3s\u001b[0m 42ms/step - accuracy: 0.9756 - loss: 0.0872\n",
      "Epoch 6/20\n",
      "\u001b[1m60/60\u001b[0m \u001b[32m━━━━━━━━━━━━━━━━━━━━\u001b[0m\u001b[37m\u001b[0m \u001b[1m3s\u001b[0m 43ms/step - accuracy: 0.9817 - loss: 0.0751\n",
      "Epoch 7/20\n",
      "\u001b[1m60/60\u001b[0m \u001b[32m━━━━━━━━━━━━━━━━━━━━\u001b[0m\u001b[37m\u001b[0m \u001b[1m3s\u001b[0m 43ms/step - accuracy: 0.9833 - loss: 0.0656\n",
      "Epoch 8/20\n",
      "\u001b[1m60/60\u001b[0m \u001b[32m━━━━━━━━━━━━━━━━━━━━\u001b[0m\u001b[37m\u001b[0m \u001b[1m3s\u001b[0m 47ms/step - accuracy: 0.9906 - loss: 0.0548\n",
      "Epoch 9/20\n",
      "\u001b[1m60/60\u001b[0m \u001b[32m━━━━━━━━━━━━━━━━━━━━\u001b[0m\u001b[37m\u001b[0m \u001b[1m4s\u001b[0m 62ms/step - accuracy: 0.9900 - loss: 0.0498\n",
      "Epoch 10/20\n",
      "\u001b[1m60/60\u001b[0m \u001b[32m━━━━━━━━━━━━━━━━━━━━\u001b[0m\u001b[37m\u001b[0m \u001b[1m4s\u001b[0m 55ms/step - accuracy: 0.9939 - loss: 0.0425\n",
      "Epoch 11/20\n",
      "\u001b[1m60/60\u001b[0m \u001b[32m━━━━━━━━━━━━━━━━━━━━\u001b[0m\u001b[37m\u001b[0m \u001b[1m4s\u001b[0m 55ms/step - accuracy: 0.9967 - loss: 0.0383\n",
      "Epoch 12/20\n",
      "\u001b[1m60/60\u001b[0m \u001b[32m━━━━━━━━━━━━━━━━━━━━\u001b[0m\u001b[37m\u001b[0m \u001b[1m4s\u001b[0m 56ms/step - accuracy: 0.9978 - loss: 0.0336\n",
      "Epoch 13/20\n",
      "\u001b[1m60/60\u001b[0m \u001b[32m━━━━━━━━━━━━━━━━━━━━\u001b[0m\u001b[37m\u001b[0m \u001b[1m4s\u001b[0m 56ms/step - accuracy: 0.9989 - loss: 0.0306\n",
      "Epoch 14/20\n",
      "\u001b[1m60/60\u001b[0m \u001b[32m━━━━━━━━━━━━━━━━━━━━\u001b[0m\u001b[37m\u001b[0m \u001b[1m4s\u001b[0m 54ms/step - accuracy: 0.9989 - loss: 0.0281\n",
      "Epoch 15/20\n",
      "\u001b[1m60/60\u001b[0m \u001b[32m━━━━━━━━━━━━━━━━━━━━\u001b[0m\u001b[37m\u001b[0m \u001b[1m4s\u001b[0m 51ms/step - accuracy: 0.9994 - loss: 0.0252\n",
      "Epoch 16/20\n",
      "\u001b[1m60/60\u001b[0m \u001b[32m━━━━━━━━━━━━━━━━━━━━\u001b[0m\u001b[37m\u001b[0m \u001b[1m4s\u001b[0m 54ms/step - accuracy: 0.9989 - loss: 0.0232\n",
      "Epoch 17/20\n",
      "\u001b[1m60/60\u001b[0m \u001b[32m━━━━━━━━━━━━━━━━━━━━\u001b[0m\u001b[37m\u001b[0m \u001b[1m4s\u001b[0m 55ms/step - accuracy: 0.9989 - loss: 0.0220\n",
      "Epoch 18/20\n",
      "\u001b[1m60/60\u001b[0m \u001b[32m━━━━━━━━━━━━━━━━━━━━\u001b[0m\u001b[37m\u001b[0m \u001b[1m4s\u001b[0m 55ms/step - accuracy: 1.0000 - loss: 0.0197\n",
      "Epoch 19/20\n",
      "\u001b[1m60/60\u001b[0m \u001b[32m━━━━━━━━━━━━━━━━━━━━\u001b[0m\u001b[37m\u001b[0m \u001b[1m4s\u001b[0m 55ms/step - accuracy: 1.0000 - loss: 0.0182\n",
      "Epoch 20/20\n",
      "\u001b[1m60/60\u001b[0m \u001b[32m━━━━━━━━━━━━━━━━━━━━\u001b[0m\u001b[37m\u001b[0m \u001b[1m4s\u001b[0m 55ms/step - accuracy: 1.0000 - loss: 0.0172\n"
     ]
    },
    {
     "data": {
      "text/plain": [
       "<keras.src.callbacks.history.History at 0x25a87b57a10>"
      ]
     },
     "execution_count": 4,
     "metadata": {},
     "output_type": "execute_result"
    }
   ],
   "source": [
    "# base_modelにoutput_layerを追加したモデルを作成する\n",
    "model = tf.keras.Sequential([\n",
    "    base_model,\n",
    "    output_layer\n",
    "])\n",
    "\n",
    "# modelをcompileする\n",
    "model.compile(\n",
    "    optimizer = \"adam\",\n",
    "    loss = 'binary_crossentropy',\n",
    "    metrics = [\"accuracy\"]\n",
    ")\n",
    "\n",
    "# modelに学習をさせる\n",
    "model.fit(train_dataset, epochs=20)"
   ]
  },
  {
   "cell_type": "code",
   "execution_count": 5,
   "id": "92a822c9",
   "metadata": {},
   "outputs": [
    {
     "name": "stdout",
     "output_type": "stream",
     "text": [
      "\u001b[1m4/4\u001b[0m \u001b[32m━━━━━━━━━━━━━━━━━━━━\u001b[0m\u001b[37m\u001b[0m \u001b[1m1s\u001b[0m 38ms/step - accuracy: 0.9800 - loss: 0.0435\n"
     ]
    },
    {
     "data": {
      "text/plain": [
       "[0.04352379962801933, 0.9800000190734863]"
      ]
     },
     "execution_count": 5,
     "metadata": {},
     "output_type": "execute_result"
    }
   ],
   "source": [
    "# evaluate()でモデルの性能を評価する\n",
    "model.evaluate(test_dataset)"
   ]
  }
 ],
 "metadata": {
  "kernelspec": {
   "display_name": ".venv",
   "language": "python",
   "name": "python3"
  },
  "language_info": {
   "codemirror_mode": {
    "name": "ipython",
    "version": 3
   },
   "file_extension": ".py",
   "mimetype": "text/x-python",
   "name": "python",
   "nbconvert_exporter": "python",
   "pygments_lexer": "ipython3",
   "version": "3.12.10"
  }
 },
 "nbformat": 4,
 "nbformat_minor": 5
}
