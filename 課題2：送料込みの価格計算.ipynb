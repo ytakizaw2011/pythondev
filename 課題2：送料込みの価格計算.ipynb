{
 "cells": [
  {
   "cell_type": "code",
   "execution_count": 14,
   "id": "d00586f3",
   "metadata": {},
   "outputs": [],
   "source": [
    "def cal_tax(price):\n",
    "    price_in_tax = round(price * 1.1,0)\n",
    "\n",
    "    if price_in_tax >= 2000:\n",
    "        print(\"送料は無料です\")\n",
    "    else:\n",
    "        print(f\"送料として350円かかります\")\n",
    "        price_in_tax += 350\n",
    "\n",
    "    print(f\"送料込みの価格は{int(price_in_tax)}円です。\")"
   ]
  },
  {
   "cell_type": "code",
   "execution_count": 15,
   "id": "cf556257",
   "metadata": {},
   "outputs": [
    {
     "name": "stdout",
     "output_type": "stream",
     "text": [
      "送料として350円かかります\n",
      "送料込みの価格は2330円です。\n"
     ]
    }
   ],
   "source": [
    "price = int(input(\"税抜価格を入力してください：\"))\n",
    "cal_tax(price)"
   ]
  }
 ],
 "metadata": {
  "kernelspec": {
   "display_name": ".venv",
   "language": "python",
   "name": "python3"
  },
  "language_info": {
   "codemirror_mode": {
    "name": "ipython",
    "version": 3
   },
   "file_extension": ".py",
   "mimetype": "text/x-python",
   "name": "python",
   "nbconvert_exporter": "python",
   "pygments_lexer": "ipython3",
   "version": "3.12.10"
  }
 },
 "nbformat": 4,
 "nbformat_minor": 5
}
