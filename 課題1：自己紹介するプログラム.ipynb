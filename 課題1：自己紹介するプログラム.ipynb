{
 "cells": [
  {
   "cell_type": "code",
   "execution_count": 4,
   "id": "1874e032",
   "metadata": {},
   "outputs": [
    {
     "name": "stdout",
     "output_type": "stream",
     "text": [
      "私の名前は Yuuki Takizawa です。来年で 40 になります。\n"
     ]
    }
   ],
   "source": [
    "name = input(\"名前を入力してください：\")\n",
    "age = input(\"現在の年齢を入力してください：\")\n",
    "\n",
    "age = int(age) + 1\n",
    "\n",
    "print(f\"私の名前は {name} です。来年で {age} になります。\")"
   ]
  }
 ],
 "metadata": {
  "kernelspec": {
   "display_name": ".venv",
   "language": "python",
   "name": "python3"
  },
  "language_info": {
   "codemirror_mode": {
    "name": "ipython",
    "version": 3
   },
   "file_extension": ".py",
   "mimetype": "text/x-python",
   "name": "python",
   "nbconvert_exporter": "python",
   "pygments_lexer": "ipython3",
   "version": "3.12.10"
  }
 },
 "nbformat": 4,
 "nbformat_minor": 5
}
