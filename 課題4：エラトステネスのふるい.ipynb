{
 "cells": [
  {
   "cell_type": "code",
   "execution_count": 17,
   "id": "25659a74",
   "metadata": {},
   "outputs": [
    {
     "name": "stdout",
     "output_type": "stream",
     "text": [
      "2\n",
      "3\n",
      "5\n",
      "7\n",
      "11\n",
      "13\n",
      "17\n",
      "19\n",
      "23\n",
      "29\n",
      "31\n",
      "37\n",
      "41\n",
      "43\n",
      "47\n",
      "53\n",
      "59\n",
      "61\n",
      "67\n",
      "71\n",
      "73\n",
      "79\n",
      "83\n",
      "89\n",
      "97\n"
     ]
    }
   ],
   "source": [
    "for i in range(1,101):\n",
    "    \n",
    "    if (i == 1):\n",
    "        pass\n",
    "    elif (i % 2 == 0) and (i != 2):\n",
    "        pass\n",
    "    elif (i % 3 == 0) and (i != 3):\n",
    "        pass\n",
    "    elif (i % 5 == 0) and (i != 5):\n",
    "        pass\n",
    "    elif (i % 7 == 0) and (i != 7):\n",
    "        pass\n",
    "    else:\n",
    "        print(i)\n",
    "    \n",
    "\n"
   ]
  }
 ],
 "metadata": {
  "kernelspec": {
   "display_name": ".venv",
   "language": "python",
   "name": "python3"
  },
  "language_info": {
   "codemirror_mode": {
    "name": "ipython",
    "version": 3
   },
   "file_extension": ".py",
   "mimetype": "text/x-python",
   "name": "python",
   "nbconvert_exporter": "python",
   "pygments_lexer": "ipython3",
   "version": "3.12.10"
  }
 },
 "nbformat": 4,
 "nbformat_minor": 5
}
