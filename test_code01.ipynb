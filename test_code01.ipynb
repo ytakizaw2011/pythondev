{
 "cells": [
  {
   "cell_type": "code",
   "execution_count": 2,
   "id": "fedbeff3",
   "metadata": {},
   "outputs": [],
   "source": [
    "class Member_info:\n",
    "    def __init__(self, name):\n",
    "        self.name = name"
   ]
  },
  {
   "cell_type": "code",
   "execution_count": 4,
   "id": "5603d0e1",
   "metadata": {},
   "outputs": [
    {
     "name": "stdout",
     "output_type": "stream",
     "text": [
      "aaa\n",
      "bbb\n",
      "ccc\n"
     ]
    }
   ],
   "source": [
    "# 個人的な確認用のノートブック\n",
    "# インスタンスをリストに格納して、それを後で取り出して別の変数名にして使えるか確認\n",
    "\n",
    "name_list = [\"aaa\", \"bbb\", \"ccc\"]\n",
    "ins_list = list()\n",
    "\n",
    "for name in name_list:\n",
    "    member = Member_info(name)\n",
    "    ins_list.append(member)\n",
    "\n",
    "for i in range(3):\n",
    "    test = ins_list[i]\n",
    "    print(test.name)\n"
   ]
  }
 ],
 "metadata": {
  "kernelspec": {
   "display_name": ".venv",
   "language": "python",
   "name": "python3"
  },
  "language_info": {
   "codemirror_mode": {
    "name": "ipython",
    "version": 3
   },
   "file_extension": ".py",
   "mimetype": "text/x-python",
   "name": "python",
   "nbconvert_exporter": "python",
   "pygments_lexer": "ipython3",
   "version": "3.12.10"
  }
 },
 "nbformat": 4,
 "nbformat_minor": 5
}
