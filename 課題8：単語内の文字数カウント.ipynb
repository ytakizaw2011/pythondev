{
 "cells": [
  {
   "cell_type": "code",
   "execution_count": 45,
   "id": "a6b53e45",
   "metadata": {},
   "outputs": [],
   "source": [
    "def input_word():\n",
    "    word_list = list()\n",
    "    \n",
    "    while True:\n",
    "        word = input(\"英単語を入力してください：\")\n",
    "        \n",
    "        # 未入力でリターンキーが押されたら繰り返しを抜ける\n",
    "        # 英単語が入力されたらリストに格納\n",
    "        if word == \"\":\n",
    "            break\n",
    "        else:\n",
    "            word_list.append(word)\n",
    "    \n",
    "    word_list.sort()\n",
    "    \n",
    "    return word_list\n",
    "        "
   ]
  },
  {
   "cell_type": "code",
   "execution_count": null,
   "id": "6a7c99ca",
   "metadata": {},
   "outputs": [],
   "source": [
    "def exp_letters(words, letters):\n",
    "    # words = 入力した英単語のリスト(list形式)\n",
    "    # letters = a-zの英字と登場回数(初期値:0)のセット(dict形式)\n",
    "\n",
    "    # リストに登場したa-zの数を計算\n",
    "    for s in words:\n",
    "        # 単語に登場するa-zの数を順番にカウントして加算していく\n",
    "        for key, value in letters.items():\n",
    "            letters[key] = int(value) + int(s.count(key))\n",
    "    \n",
    "    # 登場回数が0でない英字とその登場回数を表示\n",
    "    for key, value in letters.items():\n",
    "        # 単語リストに登場した回数が0でなければその英字と回数を表示\n",
    "        if value != 0:\n",
    "            print(f\"{key}が{value}個ありました\")\n",
    "    "
   ]
  },
  {
   "cell_type": "code",
   "execution_count": 46,
   "id": "7c3ec40a",
   "metadata": {},
   "outputs": [
    {
     "name": "stdout",
     "output_type": "stream",
     "text": [
      "入力した英単語：['bear', 'cat', 'dog', 'giraffe', 'horse', 'kangaroo']\n",
      "aが5個ありました\n",
      "bが1個ありました\n",
      "cが1個ありました\n",
      "dが1個ありました\n",
      "eが3個ありました\n",
      "fが2個ありました\n",
      "gが3個ありました\n",
      "hが1個ありました\n",
      "iが1個ありました\n",
      "kが1個ありました\n",
      "nが1個ありました\n",
      "oが4個ありました\n",
      "rが4個ありました\n",
      "sが1個ありました\n",
      "tが1個ありました\n"
     ]
    }
   ],
   "source": [
    "letters_set = dict()\n",
    "letters_set = dict.fromkeys(list(\"abcdefghijklmnopqrstuvwxyz\"), 0)\n",
    "\n",
    "# 英単語を入力してリストに格納する関数を呼び出し\n",
    "words = input_word()\n",
    "print(f\"入力した英単語：{words}\")\n",
    "\n",
    "# リストの英単語に登場したa-zの数を計算して表示する関数を呼び出し\n",
    "exp_letters(words, letters_set)"
   ]
  }
 ],
 "metadata": {
  "kernelspec": {
   "display_name": ".venv",
   "language": "python",
   "name": "python3"
  },
  "language_info": {
   "codemirror_mode": {
    "name": "ipython",
    "version": 3
   },
   "file_extension": ".py",
   "mimetype": "text/x-python",
   "name": "python",
   "nbconvert_exporter": "python",
   "pygments_lexer": "ipython3",
   "version": "3.12.10"
  }
 },
 "nbformat": 4,
 "nbformat_minor": 5
}
