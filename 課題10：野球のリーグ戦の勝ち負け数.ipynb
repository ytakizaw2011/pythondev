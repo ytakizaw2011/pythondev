{
 "cells": [
  {
   "cell_type": "code",
   "execution_count": 63,
   "id": "a203ba9f",
   "metadata": {},
   "outputs": [],
   "source": [
    "class Baseball_Team:\n",
    "    def __init__(self, name, win, lose, draw):\n",
    "        self.name = name\n",
    "        self.win = win\n",
    "        self.lose = lose\n",
    "        self.draw = draw\n",
    "    \n",
    "    def calc_win_rate(self):\n",
    "        self.rate = self.win / (self.win + self.lose)\n",
    "    \n",
    "    def show_team_result(self):\n",
    "        self.calc_win_rate()\n",
    "        print(\"{:8} {:3d} {:4d} {:4d} {:.3f}\".format(self.name, self.win, self.lose, self.draw, self.rate))\n",
    "    "
   ]
  },
  {
   "cell_type": "code",
   "execution_count": 64,
   "id": "c7562955",
   "metadata": {},
   "outputs": [
    {
     "name": "stdout",
     "output_type": "stream",
     "text": [
      "team     win lose draw rate\n",
      "Archers   77   64    2 0.546\n",
      "Meteors   71   69    3 0.507\n",
      "Cheetahs  69   68    6 0.504\n",
      "Sharks    70   70    3 0.500\n",
      "Pythons   68   73    2 0.482\n",
      "Owls      59   82    2 0.418\n"
     ]
    }
   ],
   "source": [
    "team_1 = Baseball_Team(name=\"Archers\", win=77, lose=64, draw=2)\n",
    "team_2 = Baseball_Team(name=\"Meteors\", win=71, lose=69, draw=3)\n",
    "team_3 = Baseball_Team(name=\"Cheetahs\", win=69, lose=68, draw=6)\n",
    "team_4 = Baseball_Team(name=\"Sharks\", win=70, lose=70, draw=3)\n",
    "team_5 = Baseball_Team(name=\"Pythons\", win=68, lose=73, draw=2)\n",
    "team_6 = Baseball_Team(name=\"Owls\", win=59, lose=82, draw=2)\n",
    "\n",
    "print(\"{:8} {:3} {:4} {:4} {:4}\".format(\"team\", \"win\", \"lose\", \"draw\", \"rate\"))\n",
    "\n",
    "team_1.show_team_result()\n",
    "team_2.show_team_result()\n",
    "team_3.show_team_result()\n",
    "team_4.show_team_result()\n",
    "team_5.show_team_result()\n",
    "team_6.show_team_result()"
   ]
  }
 ],
 "metadata": {
  "kernelspec": {
   "display_name": ".venv",
   "language": "python",
   "name": "python3"
  },
  "language_info": {
   "codemirror_mode": {
    "name": "ipython",
    "version": 3
   },
   "file_extension": ".py",
   "mimetype": "text/x-python",
   "name": "python",
   "nbconvert_exporter": "python",
   "pygments_lexer": "ipython3",
   "version": "3.12.10"
  }
 },
 "nbformat": 4,
 "nbformat_minor": 5
}
