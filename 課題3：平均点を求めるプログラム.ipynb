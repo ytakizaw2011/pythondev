{
 "cells": [
  {
   "cell_type": "code",
   "execution_count": 6,
   "id": "cdd3cd22",
   "metadata": {},
   "outputs": [
    {
     "name": "stdout",
     "output_type": "stream",
     "text": [
      "10人のテストの平均点は73.4点です\n"
     ]
    }
   ],
   "source": [
    "i = 0\n",
    "total = 0\n",
    "\n",
    "while i >= 0:\n",
    "    score = int(input(\"点数を入力してください：\"))\n",
    "\n",
    "    if score == -1:\n",
    "        break\n",
    "    else:\n",
    "        total += score        \n",
    "        i += 1\n",
    "\n",
    "print(f\"{i}人のテストの平均点は{round(total / i,1)}点です\")\n"
   ]
  }
 ],
 "metadata": {
  "kernelspec": {
   "display_name": ".venv",
   "language": "python",
   "name": "python3"
  },
  "language_info": {
   "codemirror_mode": {
    "name": "ipython",
    "version": 3
   },
   "file_extension": ".py",
   "mimetype": "text/x-python",
   "name": "python",
   "nbconvert_exporter": "python",
   "pygments_lexer": "ipython3",
   "version": "3.12.10"
  }
 },
 "nbformat": 4,
 "nbformat_minor": 5
}
